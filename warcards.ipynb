{
 "cells": [
  {
   "cell_type": "code",
   "execution_count": 1,
   "id": "76462334-a3dd-47b9-b7e9-e5958d2b6014",
   "metadata": {
    "tags": []
   },
   "outputs": [],
   "source": [
    "#war (card game)\n",
    "#two players split the deck\n",
    "#draw out cards\n",
    "#player with higher rated card keeps both the cards at the bootom of one's deck\n",
    "#if there's a tie, two more cards are drawn facing downwards, and a third card is drawn visible\n",
    "#the third card is compared\n",
    "#the game ends when one player has no cards left"
   ]
  },
  {
   "cell_type": "code",
   "execution_count": 2,
   "id": "bce0ab5a-5a80-4136-8f29-fc23c3ce3aec",
   "metadata": {
    "tags": []
   },
   "outputs": [],
   "source": [
    "#card class\n",
    "#suit - spades, cloves, hearts, diamonds\n",
    "#rank - 2 to 10, jack, queen, king, ace\n",
    "#value - corresponding integer value to rank"
   ]
  },
  {
   "cell_type": "code",
   "execution_count": 3,
   "id": "5d952758-d599-4c76-9309-7af49c8d1b26",
   "metadata": {
    "tags": []
   },
   "outputs": [],
   "source": [
    "import random\n",
    "suits = ('spade','cloves','hearts','diamonds')\n",
    "ranks = ('two', 'three', 'four', 'five', 'six', 'seven', 'eight', 'nine', 'ten', 'jack', \n",
    "          'queen', 'king', 'ace')\n",
    "values = {'two':2, 'three':3, 'four':4, 'five':5, 'six':6, 'seven':7, 'eight':8, 'nine':9, 'ten':10, 'jack':11, \n",
    "          'queen':12, 'king':13, 'ace': 14}"
   ]
  },
  {
   "cell_type": "code",
   "execution_count": 4,
   "id": "6cd6912e-398d-431a-a903-2dd512153ec9",
   "metadata": {},
   "outputs": [],
   "source": [
    "class Card:\n",
    "    def __init__(self,suit,rank):\n",
    "        self.suit = suit\n",
    "        self.rank = rank\n",
    "        self.value = values[rank]\n",
    "    def __str__(self):\n",
    "        return self.rank + \" of \" + self.suit"
   ]
  },
  {
   "cell_type": "code",
   "execution_count": 5,
   "id": "8658f67f-7342-4de4-8f94-9d387beba8be",
   "metadata": {
    "tags": []
   },
   "outputs": [],
   "source": [
    "#deck class\n",
    "#instantiate a new deck - create all 52 cards as objects; holds as a list of objects\n",
    "#shuffle a deck through method call - random.shuffle()\n",
    "#deal cards from deck - pop()\n",
    "#deck class holds a list of card objects\n",
    "#returns class type of object"
   ]
  },
  {
   "cell_type": "code",
   "execution_count": 6,
   "id": "617e3601-c7f4-407a-b542-5d2b8715dbd6",
   "metadata": {
    "tags": []
   },
   "outputs": [],
   "source": [
    "class Deck:\n",
    "    def __init__(self):\n",
    "        self.all_cards = []\n",
    "#creating the card object\n",
    "        for suit in suits:\n",
    "            for rank in ranks:\n",
    "                created_card = Card(suit,rank)\n",
    "                self.all_cards.append(created_card)\n",
    "#shuffling the deck\n",
    "    def shuffle(self):\n",
    "        random.shuffle(self.all_cards)\n",
    "#taking the topmost card        \n",
    "    def deal_one(self):\n",
    "        return self.all_cards.pop()"
   ]
  },
  {
   "cell_type": "code",
   "execution_count": 7,
   "id": "a67b3c87-105a-4451-b563-c36d59f868a3",
   "metadata": {
    "tags": []
   },
   "outputs": [],
   "source": [
    "#player class\n",
    "#has a set of cards\n",
    "#can add/drop card(s)\n",
    "#top and bottom of a Python list\n",
    "#take the topmost card out - cards.pop(0)\n",
    "#add a card to the bottom of the set - cards.append(card)\n",
    "#add multiple cards - cards.extend(card1,card2,...)"
   ]
  },
  {
   "cell_type": "code",
   "execution_count": 8,
   "id": "101d4f36-5758-494d-bbbc-db299898154f",
   "metadata": {
    "tags": []
   },
   "outputs": [],
   "source": [
    "class Player:\n",
    "    def __init__(self,name):\n",
    "        self.name = name\n",
    "        self.all_cards = []\n",
    "    def remove_one(self):\n",
    "        return self.all_cards.pop(0)\n",
    "    def add_cards(self,new_cards):\n",
    "        if type(new_cards) == type(self.all_cards):\n",
    "            self.all_cards.extend(new_cards)\n",
    "        else:\n",
    "            self.all_cards.append(new_cards)\n",
    "    def __str__(self):\n",
    "        return f'Player {self.name} has {len(self.all_cards)} cards'"
   ]
  },
  {
   "cell_type": "code",
   "execution_count": 9,
   "id": "3f66158c-9360-45a4-97db-43220759222e",
   "metadata": {
    "tags": []
   },
   "outputs": [],
   "source": [
    "#Game begins!\n",
    "#The first step that we do is initializing the two players\n",
    "#Both these players are automated"
   ]
  },
  {
   "cell_type": "code",
   "execution_count": 10,
   "id": "a7305e19-ffd0-494a-92a0-59ba52d3cdda",
   "metadata": {
    "tags": []
   },
   "outputs": [],
   "source": [
    "player1 = Player(\"Adam\")\n",
    "player2 = Player(\"Eve\")"
   ]
  },
  {
   "cell_type": "code",
   "execution_count": 11,
   "id": "37384128-14fb-45f4-95b1-21efecad60fb",
   "metadata": {
    "tags": []
   },
   "outputs": [],
   "source": [
    "#we shuffle the deck to ensure anonymity\n",
    "from random import shuffle\n",
    "new_deck = Deck()\n",
    "new_deck.shuffle()"
   ]
  },
  {
   "cell_type": "code",
   "execution_count": 12,
   "id": "92464baf-5512-46e5-94ec-98ce06e103a8",
   "metadata": {
    "tags": []
   },
   "outputs": [],
   "source": [
    "#we ensure that each player has equal number of cards i.e., 26\n",
    "for x in range(26):\n",
    "    player1.add_cards(new_deck.deal_one())\n",
    "    player2.add_cards(new_deck.deal_one())"
   ]
  },
  {
   "cell_type": "code",
   "execution_count": 13,
   "id": "bbca5b7f-1324-43e7-ada2-707fe03493ae",
   "metadata": {
    "tags": []
   },
   "outputs": [
    {
     "data": {
      "text/plain": [
       "26"
      ]
     },
     "execution_count": 13,
     "metadata": {},
     "output_type": "execute_result"
    }
   ],
   "source": [
    "len(player1.all_cards)"
   ]
  },
  {
   "cell_type": "code",
   "execution_count": 14,
   "id": "d91982dc-ddd1-4537-8c6b-e4a515460606",
   "metadata": {
    "tags": []
   },
   "outputs": [
    {
     "data": {
      "text/plain": [
       "26"
      ]
     },
     "execution_count": 14,
     "metadata": {},
     "output_type": "execute_result"
    }
   ],
   "source": [
    "len(player2.all_cards)"
   ]
  },
  {
   "cell_type": "code",
   "execution_count": 15,
   "id": "90d7365c-cac2-4fe9-aa79-8fab92d6e6fc",
   "metadata": {
    "tags": []
   },
   "outputs": [],
   "source": [
    "#an indicator variable that ensures the continuity of the game\n",
    "game_on = True"
   ]
  },
  {
   "cell_type": "code",
   "execution_count": 16,
   "id": "81ba8927-d2a8-4e75-a351-1bb10695dc83",
   "metadata": {},
   "outputs": [
    {
     "name": "stdout",
     "output_type": "stream",
     "text": [
      "Round: 1\n",
      "Round: 2\n",
      "Round: 3\n",
      "AT WAR!\n",
      "Round: 4\n",
      "Round: 5\n",
      "Round: 6\n",
      "Round: 7\n",
      "Round: 8\n",
      "AT WAR!\n",
      "Round: 9\n",
      "Round: 10\n",
      "Round: 11\n",
      "Round: 12\n",
      "Round: 13\n",
      "Round: 14\n",
      "Round: 15\n",
      "Round: 16\n",
      "Round: 17\n",
      "Round: 18\n",
      "Round: 19\n",
      "Round: 20\n",
      "Round: 21\n",
      "Round: 22\n",
      "Round: 23\n",
      "Round: 24\n",
      "Round: 25\n",
      "Round: 26\n",
      "Round: 27\n",
      "Round: 28\n",
      "Round: 29\n",
      "Round: 30\n",
      "Round: 31\n",
      "Round: 32\n",
      "Round: 33\n",
      "AT WAR!\n",
      "AT WAR!\n",
      "Round: 34\n",
      "Round: 35\n",
      "Round: 36\n",
      "Round: 37\n",
      "Round: 38\n",
      "Round: 39\n",
      "Round: 40\n",
      "Round: 41\n",
      "Round: 42\n",
      "Round: 43\n",
      "Round: 44\n",
      "Round: 45\n",
      "Round: 46\n",
      "Round: 47\n",
      "Round: 48\n",
      "Round: 49\n",
      "Round: 50\n",
      "Round: 51\n",
      "Round: 52\n",
      "Round: 53\n",
      "Round: 54\n",
      "Round: 55\n",
      "Round: 56\n",
      "Round: 57\n",
      "Round: 58\n",
      "Round: 59\n",
      "Round: 60\n",
      "Round: 61\n",
      "Round: 62\n",
      "Round: 63\n",
      "Round: 64\n",
      "Round: 65\n",
      "Round: 66\n",
      "Round: 67\n",
      "Round: 68\n",
      "Round: 69\n",
      "AT WAR!\n",
      "Round: 70\n",
      "Round: 71\n",
      "Round: 72\n",
      "Round: 73\n",
      "Round: 74\n",
      "AT WAR!\n",
      "Round: 75\n",
      "Round: 76\n",
      "Round: 77\n",
      "Round: 78\n",
      "Round: 79\n",
      "Round: 80\n",
      "Round: 81\n",
      "Round: 82\n",
      "Round: 83\n",
      "Round: 84\n",
      "Round: 85\n",
      "Round: 86\n",
      "Round: 87\n",
      "Round: 88\n",
      "Round: 89\n",
      "Round: 90\n",
      "Round: 91\n",
      "Round: 92\n",
      "Round: 93\n",
      "Round: 94\n",
      "Round: 95\n",
      "Round: 96\n",
      "Round: 97\n",
      "Round: 98\n",
      "Round: 99\n",
      "Round: 100\n",
      "Round: 101\n",
      "Round: 102\n",
      "Round: 103\n",
      "Round: 104\n",
      "Round: 105\n",
      "Eve out of cards. Adam wins!\n"
     ]
    }
   ],
   "source": [
    "#'round' to keep track of the number of rounds in the game\n",
    "round = 0\n",
    "while game_on:\n",
    "    round += 1\n",
    "    print(f'Round: {round}')\n",
    "    #to check if players have sufficient cards to play the game\n",
    "    if len(player1.all_cards) == 0:\n",
    "        print(f'{player1.name} out of cards. {player2.name} wins!')\n",
    "        game_on = False\n",
    "        break\n",
    "    elif len(player2.all_cards) == 0:\n",
    "        print(f'{player2.name} out of cards. {player1.name} wins!')\n",
    "        game_on = False\n",
    "        break\n",
    "    #start a new round\n",
    "    player1_cards = list()\n",
    "    player1_cards.append(player1.remove_one())\n",
    "    player2_cards = list()\n",
    "    player2_cards.append(player2.remove_one())\n",
    "    \n",
    "    #war - when the cards from both the players are of same rank/value\n",
    "    at_war = True\n",
    "    while at_war:\n",
    "        #when player 1 has a higher card\n",
    "        if player1_cards[-1].value > player2_cards[-1].value:\n",
    "            player1.add_cards(player1_cards)\n",
    "            player1.add_cards(player2_cards)\n",
    "            at_war = False\n",
    "        #when player 2 has a higher card\n",
    "        elif player2_cards[-1].value > player1_cards[-1].value:\n",
    "            player2.add_cards(player2_cards)\n",
    "            player2.add_cards(player1_cards)\n",
    "            at_war = False\n",
    "        else:\n",
    "            #when there's a tie\n",
    "            print('AT WAR!')\n",
    "            #check if either of the players have less than 3 cards\n",
    "            if len(player1.all_cards) < 3:\n",
    "                print(f'{player1.name} unable to declare war!')\n",
    "                print(f'{player2.name} wins!')\n",
    "                game_on = False\n",
    "                break\n",
    "            elif len(player2.all_cards) < 3:\n",
    "                print(f'{player2.name} unable to declare war!')\n",
    "                print(f'{player1.name} wins!')\n",
    "                game_on = False\n",
    "                break\n",
    "            else:\n",
    "                #if they have sufficient cards, they pull out 3 cards to play\n",
    "                for num in range(3):\n",
    "                    player1_cards.append(player1.remove_one())\n",
    "                    player2_cards.append(player2.remove_one())\n",
    "                                         "
   ]
  }
 ],
 "metadata": {
  "kernelspec": {
   "display_name": "Python 3 (ipykernel)",
   "language": "python",
   "name": "python3"
  },
  "language_info": {
   "codemirror_mode": {
    "name": "ipython",
    "version": 3
   },
   "file_extension": ".py",
   "mimetype": "text/x-python",
   "name": "python",
   "nbconvert_exporter": "python",
   "pygments_lexer": "ipython3",
   "version": "3.11.5"
  }
 },
 "nbformat": 4,
 "nbformat_minor": 5
}
